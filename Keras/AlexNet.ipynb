{
  "nbformat": 4,
  "nbformat_minor": 0,
  "metadata": {
    "colab": {
      "name": "Keras_workplace.ipynb",
      "provenance": [],
      "collapsed_sections": []
    },
    "kernelspec": {
      "name": "python3",
      "display_name": "Python 3"
    },
    "accelerator": "GPU"
  },
  "cells": [
    {
      "cell_type": "markdown",
      "metadata": {
        "id": "GLTWTAyz45NO",
        "colab_type": "text"
      },
      "source": [
        "# **LINEAR REGRESSION USING KERAS**"
      ]
    },
    {
      "cell_type": "code",
      "metadata": {
        "id": "vOAB2Fvet-28",
        "colab_type": "code",
        "colab": {}
      },
      "source": [
        "import tensorflow as tf\n",
        "from tensorflow import keras\n",
        "from tensorflow.keras.models import Sequential\n",
        "from tensorflow.keras.layers import Dense, Activation, Dropout, Flatten, Conv2D, MaxPooling2D, BatchNormalization\n",
        "from tensorflow.keras.datasets import cifar10\n",
        "from tensorflow.keras.callbacks import TensorBoard\n",
        "import numpy as np\n",
        "import time"
      ],
      "execution_count": 0,
      "outputs": []
    },
    {
      "cell_type": "code",
      "metadata": {
        "id": "3bf_PnQnEXee",
        "colab_type": "code",
        "colab": {}
      },
      "source": [
        "batch_size = 50\n",
        "num_classes = 10\n",
        "epochs = 10\n",
        "learning_rate = 0.01"
      ],
      "execution_count": 0,
      "outputs": []
    },
    {
      "cell_type": "markdown",
      "metadata": {
        "id": "2BDmw-Lusuuj",
        "colab_type": "text"
      },
      "source": [
        "*SET TENSORBOARD* <br>\n",
        "Timestamp is used to create uniqueness"
      ]
    },
    {
      "cell_type": "code",
      "metadata": {
        "id": "l8g-pBNSplQ-",
        "colab_type": "code",
        "colab": {}
      },
      "source": [
        "model_name = \"AlexNet-E{}-LR{}-BS{}-{}\".format(epochs, learning_rate, batch_size, int(time.time()))\n",
        "tensorboard = TensorBoard(log_dir=\"logs/{}\".format(model_name))"
      ],
      "execution_count": 0,
      "outputs": []
    },
    {
      "cell_type": "code",
      "metadata": {
        "id": "8Vb5SIGwDvZS",
        "colab_type": "code",
        "outputId": "b48cff94-c5a7-46bb-e625-ee32515f9d95",
        "colab": {
          "base_uri": "https://localhost:8080/",
          "height": 51
        }
      },
      "source": [
        "(x_train, y_train), (x_test, y_test) = cifar10.load_data()\n",
        "print(x_train.shape[0], 'train samples')\n",
        "print(x_test.shape[0], 'test samples')\n",
        "x_train = x_train.astype('float32')\n",
        "x_test = x_test.astype('float32')\n",
        "x_train /= 255 #NORMALIZING\n",
        "x_test /= 255"
      ],
      "execution_count": 4,
      "outputs": [
        {
          "output_type": "stream",
          "text": [
            "50000 train samples\n",
            "10000 test samples\n"
          ],
          "name": "stdout"
        }
      ]
    },
    {
      "cell_type": "markdown",
      "metadata": {
        "id": "x4Rl6kFLs8sq",
        "colab_type": "text"
      },
      "source": [
        "# Architecture\n",
        "\n",
        "```\n",
        "padding=\"same\"\n",
        "```\n",
        "*in order to adjust architecture to CIFAR-10 dataset*\n",
        "\n",
        "**AlexNet: [paper](https://papers.nips.cc/paper/4824-imagenet-classification-with-deep-convolutional-neural-networks.pdf)**\n"
      ]
    },
    {
      "cell_type": "code",
      "metadata": {
        "id": "9zGu2a4o_qIS",
        "colab_type": "code",
        "outputId": "06a5c431-e7f2-4967-95ab-860a13e13b39",
        "colab": {
          "base_uri": "https://localhost:8080/",
          "height": 88
        }
      },
      "source": [
        "model = Sequential()\n",
        "#-----------LAYER-1--------------\n",
        "model.add( Conv2D(filters=96, kernel_size=(11,11), strides=(4,4), padding=\"same\", input_shape=x_train.shape[1:], activation=\"relu\") )\n",
        "model.add( BatchNormalization() )\n",
        "model.add( MaxPooling2D(pool_size=(2,2), strides=(3,3), padding=\"same\") )\n",
        "#-----------LAYER-2--------------\n",
        "model.add( Conv2D(filters=256, kernel_size=(5,5), activation=\"relu\", padding=\"same\") )\n",
        "model.add( BatchNormalization() )\n",
        "model.add( MaxPooling2D(pool_size=(2,2), strides=(3,3), padding=\"same\") )\n",
        "#-----------LAYER-3--------------\n",
        "model.add( Conv2D(filters=384, kernel_size=(3,3), activation=\"relu\", padding=\"same\") )\n",
        "#-----------LAYER-4--------------\n",
        "model.add( Conv2D(filters=384, kernel_size=(3,3), activation=\"relu\", padding=\"same\") )\n",
        "#-----------LAYER-5--------------\n",
        "model.add( Conv2D(filters=256, kernel_size=(3,3), activation=\"relu\", padding=\"same\") )\n",
        "model.add( MaxPooling2D(pool_size=(2,2), strides=(3,3), padding=\"same\") )\n",
        "#-----------LAYER-6--------------\n",
        "model.add( Flatten() )\n",
        "model.add( Dense(units=4096, activation=\"relu\") )\n",
        "#-----------LAYER-7--------------\n",
        "model.add( Dense(units=4096, activation=\"relu\") )\n",
        "#-----------LAYER-8--------------OUTPUT\n",
        "model.add( Dense(units=10, activation=\"softmax\") )"
      ],
      "execution_count": 5,
      "outputs": [
        {
          "output_type": "stream",
          "text": [
            "WARNING:tensorflow:From /usr/local/lib/python3.6/dist-packages/tensorflow_core/python/ops/resource_variable_ops.py:1630: calling BaseResourceVariable.__init__ (from tensorflow.python.ops.resource_variable_ops) with constraint is deprecated and will be removed in a future version.\n",
            "Instructions for updating:\n",
            "If using Keras pass *_constraint arguments to layers.\n"
          ],
          "name": "stdout"
        }
      ]
    },
    {
      "cell_type": "code",
      "metadata": {
        "id": "UwcbhsW5lT9t",
        "colab_type": "code",
        "colab": {}
      },
      "source": [
        "opt = tf.keras.optimizers.Adam(lr=learning_rate)\n",
        "\n",
        "model.compile(loss=\"sparse_categorical_crossentropy\",\n",
        "              optimizer=opt,\n",
        "              metrics=[\"accuracy\"])"
      ],
      "execution_count": 0,
      "outputs": []
    },
    {
      "cell_type": "code",
      "metadata": {
        "id": "5aDc1K8L1Bvn",
        "colab_type": "code",
        "outputId": "053ff53d-05b8-436c-f471-31258fdfa660",
        "colab": {
          "base_uri": "https://localhost:8080/",
          "height": 411
        }
      },
      "source": [
        "history = model.fit(x_train, y_train, epochs=epochs, batch_size=batch_size, validation_split=0.33, verbose=1, callbacks=[tensorboard])"
      ],
      "execution_count": 7,
      "outputs": [
        {
          "output_type": "stream",
          "text": [
            "Train on 33500 samples, validate on 16500 samples\n",
            "Epoch 1/10\n",
            "   50/33500 [..............................] - ETA: 20:55 - loss: 2.3021 - acc: 0.0800WARNING:tensorflow:Method (on_train_batch_end) is slow compared to the batch update (0.131658). Check your callbacks.\n",
            "33500/33500 [==============================] - 33s 975us/sample - loss: 2.3882 - acc: 0.2042 - val_loss: 1.9944 - val_acc: 0.2480\n",
            "Epoch 2/10\n",
            "33500/33500 [==============================] - 31s 916us/sample - loss: 1.8289 - acc: 0.2903 - val_loss: 1.8223 - val_acc: 0.3090\n",
            "Epoch 3/10\n",
            "33500/33500 [==============================] - 31s 917us/sample - loss: 1.7057 - acc: 0.3498 - val_loss: 1.7261 - val_acc: 0.3623\n",
            "Epoch 4/10\n",
            "33500/33500 [==============================] - 31s 915us/sample - loss: 1.6377 - acc: 0.3925 - val_loss: 1.6530 - val_acc: 0.4016\n",
            "Epoch 5/10\n",
            "33500/33500 [==============================] - 31s 917us/sample - loss: 1.5572 - acc: 0.4300 - val_loss: 1.6752 - val_acc: 0.4156\n",
            "Epoch 6/10\n",
            "33500/33500 [==============================] - 31s 914us/sample - loss: 1.4973 - acc: 0.4548 - val_loss: 1.5865 - val_acc: 0.4442\n",
            "Epoch 7/10\n",
            "33500/33500 [==============================] - 31s 911us/sample - loss: 1.4578 - acc: 0.4734 - val_loss: 1.8919 - val_acc: 0.3615\n",
            "Epoch 8/10\n",
            "33500/33500 [==============================] - 31s 911us/sample - loss: 1.4975 - acc: 0.4583 - val_loss: 1.5016 - val_acc: 0.4729\n",
            "Epoch 9/10\n",
            "33500/33500 [==============================] - 31s 914us/sample - loss: 1.4734 - acc: 0.4669 - val_loss: 1.5777 - val_acc: 0.4434\n",
            "Epoch 10/10\n",
            "33500/33500 [==============================] - 31s 915us/sample - loss: 1.3846 - acc: 0.4980 - val_loss: 1.5925 - val_acc: 0.4440\n"
          ],
          "name": "stdout"
        }
      ]
    },
    {
      "cell_type": "markdown",
      "metadata": {
        "id": "vGR3AVt4tzFV",
        "colab_type": "text"
      },
      "source": [
        "# Plotting "
      ]
    },
    {
      "cell_type": "code",
      "metadata": {
        "id": "pzLKDCcl4SBe",
        "colab_type": "code",
        "outputId": "440b3401-35e7-4786-8f79-5c606f240dee",
        "colab": {
          "base_uri": "https://localhost:8080/",
          "height": 573
        }
      },
      "source": [
        "import matplotlib.pyplot as plt\n",
        "plt.plot(history.history['acc'])\n",
        "plt.plot(history.history['val_acc'])\n",
        "plt.title('model accuracy')\n",
        "plt.ylabel('accuracy')\n",
        "plt.xlabel('epoch')\n",
        "plt.legend(['train', 'test'], loc='upper left')\n",
        "plt.show()\n",
        "#------------------------------------------------\n",
        "plt.plot(history.history['loss'])\n",
        "plt.plot(history.history['val_loss'])\n",
        "plt.title('model loss')\n",
        "plt.ylabel('loss')\n",
        "plt.xlabel('epoch')\n",
        "plt.legend(['train', 'test'], loc='upper left')\n",
        "plt.show()"
      ],
      "execution_count": 8,
      "outputs": [
        {
          "output_type": "display_data",
          "data": {
            "image/png": "[encoded data removed]",
            "text/plain": [
              "<Figure size 432x288 with 1 Axes>"
            ]
          },
          "metadata": {
            "tags": []
          }
        },
        {
          "output_type": "display_data",
          "data": {
            "image/png": "[encoded data removed]",
            "text/plain": [
              "<Figure size 432x288 with 1 Axes>"
            ]
          },
          "metadata": {
            "tags": []
          }
        }
      ]
    },
    {
      "cell_type": "code",
      "metadata": {
        "id": "OG916OCtubfh",
        "colab_type": "code",
        "colab": {
          "base_uri": "https://localhost:8080/",
          "height": 51
        },
        "outputId": "acc9ceac-d234-4a97-b220-ec6f025be94b"
      },
      "source": [
        "#!tensorboard --logdir logs"
      ],
      "execution_count": 9,
      "outputs": [
        {
          "output_type": "stream",
          "text": [
            "TensorBoard 1.15.0 at http://5506cfb83739:6006/ (Press CTRL+C to quit)\n",
            "^C\n"
          ],
          "name": "stdout"
        }
      ]
    },
    {
      "cell_type": "markdown",
      "metadata": {
        "id": "f4v-KPNuuYaw",
        "colab_type": "text"
      },
      "source": [
        "# Evaluation"
      ]
    },
    {
      "cell_type": "code",
      "metadata": {
        "id": "3I_pRqlUfrtt",
        "colab_type": "code",
        "colab": {
          "base_uri": "https://localhost:8080/",
          "height": 34
        },
        "outputId": "003e4c26-4a2e-4f34-e7f3-d3ebe2e8ed2e"
      },
      "source": [
        "scores = model.evaluate(x_test, y_test, verbose=0)\n",
        "print(\"%s: %.2f%%\" % (model.metrics_names[1], scores[1]*100))"
      ],
      "execution_count": 10,
      "outputs": [
        {
          "output_type": "stream",
          "text": [
            "acc: 44.82%\n"
          ],
          "name": "stdout"
        }
      ]
    },
    {
      "cell_type": "markdown",
      "metadata": {
        "id": "Vke6nG3urY-Z",
        "colab_type": "text"
      },
      "source": [
        "# Save and Load"
      ]
    },
    {
      "cell_type": "code",
      "metadata": {
        "id": "b1BoBJUdfdBI",
        "colab_type": "code",
        "colab": {
          "base_uri": "https://localhost:8080/",
          "height": 224
        },
        "outputId": "2a7b0d9a-963c-4d85-ae85-340416786ad6"
      },
      "source": [
        "# serialize model to JSON\n",
        "model_json = model.to_json()\n",
        "with open(\"model.json\", \"w\") as json_file:\n",
        "    json_file.write(model_json)\n",
        "# serialize weights to HDF5\n",
        "model.save_weights(\"model.h5\")\n",
        "print(\"Saved model to disk\")\n",
        "\n",
        "from tensorflow.keras.models import model_from_json\n",
        "\n",
        "# load json and create model\n",
        "json_file = open('model.json', 'r')\n",
        "loaded_model_json = json_file.read()\n",
        "json_file.close()\n",
        "loaded_model = model_from_json(loaded_model_json)\n",
        "# load weights into new model\n",
        "loaded_model.load_weights(\"model.h5\")\n",
        "print(\"Loaded model from disk\")"
      ],
      "execution_count": 14,
      "outputs": [
        {
          "output_type": "stream",
          "text": [
            "Saved model to disk\n",
            "WARNING:tensorflow:From /usr/local/lib/python3.6/dist-packages/tensorflow_core/python/ops/init_ops.py:97: calling GlorotUniform.__init__ (from tensorflow.python.ops.init_ops) with dtype is deprecated and will be removed in a future version.\n",
            "Instructions for updating:\n",
            "Call initializer instance with the dtype argument instead of passing it to the constructor\n",
            "WARNING:tensorflow:From /usr/local/lib/python3.6/dist-packages/tensorflow_core/python/ops/init_ops.py:97: calling Zeros.__init__ (from tensorflow.python.ops.init_ops) with dtype is deprecated and will be removed in a future version.\n",
            "Instructions for updating:\n",
            "Call initializer instance with the dtype argument instead of passing it to the constructor\n",
            "WARNING:tensorflow:From /usr/local/lib/python3.6/dist-packages/tensorflow_core/python/ops/init_ops.py:97: calling Ones.__init__ (from tensorflow.python.ops.init_ops) with dtype is deprecated and will be removed in a future version.\n",
            "Instructions for updating:\n",
            "Call initializer instance with the dtype argument instead of passing it to the constructor\n",
            "Loaded model from disk\n"
          ],
          "name": "stdout"
        }
      ]
    },
    {
      "cell_type": "code",
      "metadata": {
        "id": "Li6EfJfefwCI",
        "colab_type": "code",
        "colab": {
          "base_uri": "https://localhost:8080/",
          "height": 34
        },
        "outputId": "b4a12837-b83a-465c-934f-9495bbf94a7f"
      },
      "source": [
        "# evaluate loaded model on test data\n",
        "loaded_model.compile(loss='sparse_categorical_crossentropy', optimizer=opt, metrics=['accuracy'])\n",
        "score = loaded_model.evaluate(x_test, y_test, verbose=0)\n",
        "print(\"%s: %.2f%%\" % (loaded_model.metrics_names[1], score[1]*100))"
      ],
      "execution_count": 15,
      "outputs": [
        {
          "output_type": "stream",
          "text": [
            "acc: 44.82%\n"
          ],
          "name": "stdout"
        }
      ]
    },
    {
      "cell_type": "code",
      "metadata": {
        "id": "TA6MUJd9rcLW",
        "colab_type": "code",
        "colab": {
          "base_uri": "https://localhost:8080/",
          "height": 629
        },
        "outputId": "47ca16b2-0c68-449c-bd0f-20d29a01e87e"
      },
      "source": [
        "#save and load architecture and weights together\n",
        "model.save(\"full_model.h5\")\n",
        "from tensorflow.keras.models import load_model\n",
        "full_model = load_model('full_model.h5')\n",
        "full_model.summary()"
      ],
      "execution_count": 16,
      "outputs": [
        {
          "output_type": "stream",
          "text": [
            "Model: \"sequential\"\n",
            "_________________________________________________________________\n",
            "Layer (type)                 Output Shape              Param #   \n",
            "=================================================================\n",
            "conv2d (Conv2D)              (None, 8, 8, 96)          34944     \n",
            "_________________________________________________________________\n",
            "batch_normalization (BatchNo (None, 8, 8, 96)          384       \n",
            "_________________________________________________________________\n",
            "max_pooling2d (MaxPooling2D) (None, 3, 3, 96)          0         \n",
            "_________________________________________________________________\n",
            "conv2d_1 (Conv2D)            (None, 3, 3, 256)         614656    \n",
            "_________________________________________________________________\n",
            "batch_normalization_1 (Batch (None, 3, 3, 256)         1024      \n",
            "_________________________________________________________________\n",
            "max_pooling2d_1 (MaxPooling2 (None, 1, 1, 256)         0         \n",
            "_________________________________________________________________\n",
            "conv2d_2 (Conv2D)            (None, 1, 1, 384)         885120    \n",
            "_________________________________________________________________\n",
            "conv2d_3 (Conv2D)            (None, 1, 1, 384)         1327488   \n",
            "_________________________________________________________________\n",
            "conv2d_4 (Conv2D)            (None, 1, 1, 256)         884992    \n",
            "_________________________________________________________________\n",
            "max_pooling2d_2 (MaxPooling2 (None, 1, 1, 256)         0         \n",
            "_________________________________________________________________\n",
            "flatten (Flatten)            (None, 256)               0         \n",
            "_________________________________________________________________\n",
            "dense (Dense)                (None, 4096)              1052672   \n",
            "_________________________________________________________________\n",
            "dense_1 (Dense)              (None, 4096)              16781312  \n",
            "_________________________________________________________________\n",
            "dense_2 (Dense)              (None, 10)                40970     \n",
            "=================================================================\n",
            "Total params: 21,623,562\n",
            "Trainable params: 21,622,858\n",
            "Non-trainable params: 704\n",
            "_________________________________________________________________\n"
          ],
          "name": "stdout"
        }
      ]
    },
    {
      "cell_type": "code",
      "metadata": {
        "id": "SeDRbJuKsTR1",
        "colab_type": "code",
        "colab": {
          "base_uri": "https://localhost:8080/",
          "height": 34
        },
        "outputId": "593bc3b1-7786-4ef0-e1c3-383da529d16e"
      },
      "source": [
        "# evaluate loaded model on test data\n",
        "full_model.compile(loss='sparse_categorical_crossentropy', optimizer=opt, metrics=['accuracy'])\n",
        "score = full_model.evaluate(x_test, y_test, verbose=0)\n",
        "print(\"%s: %.2f%%\" % (full_model.metrics_names[1], score[1]*100))"
      ],
      "execution_count": 17,
      "outputs": [
        {
          "output_type": "stream",
          "text": [
            "acc: 44.82%\n"
          ],
          "name": "stdout"
        }
      ]
    },
    {
      "cell_type": "code",
      "metadata": {
        "id": "ZLl8DCbqyGao",
        "colab_type": "code",
        "colab": {}
      },
      "source": [
        ""
      ],
      "execution_count": 0,
      "outputs": []
    }
  ]
}